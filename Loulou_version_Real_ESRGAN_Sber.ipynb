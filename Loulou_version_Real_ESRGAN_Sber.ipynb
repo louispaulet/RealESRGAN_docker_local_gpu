{
 "cells": [
  {
   "cell_type": "markdown",
   "metadata": {
    "id": "Czlr7j7-t1Fw"
   },
   "source": [
    "# Installation\n"
   ]
  },
  {
   "cell_type": "code",
   "execution_count": null,
   "metadata": {
    "colab": {
     "base_uri": "https://localhost:8080/"
    },
    "id": "pZGQ8nZ4vLjS",
    "outputId": "68bf9e92-e62e-4364-df16-506368579c2d"
   },
   "outputs": [],
   "source": [
    "# from google.colab import drive\n",
    "# drive.mount('/content/drive')"
   ]
  },
  {
   "cell_type": "code",
   "execution_count": null,
   "metadata": {
    "colab": {
     "base_uri": "https://localhost:8080/"
    },
    "id": "zXm_whLxt-2X",
    "outputId": "46492b1a-5093-4b52-d324-ff1a4a920e76"
   },
   "outputs": [],
   "source": [
    "!pip install git+https://github.com/sberbank-ai/Real-ESRGAN.git"
   ]
  },
  {
   "cell_type": "markdown",
   "metadata": {
    "id": "LrxK5SPKsS38"
   },
   "source": [
    "# Upscale images"
   ]
  },
  {
   "cell_type": "code",
   "execution_count": null,
   "metadata": {
    "colab": {
     "base_uri": "https://localhost:8080/",
     "height": 118,
     "referenced_widgets": [
      "f40f121d1888487c9d090781c6283edf",
      "cfbf4a1c9acd486d98271d54b0ebb5fb",
      "7bb63ae462fd45749e73c6b6eb67edb8",
      "030276ab2edb4eafa31229c497d2d2d3",
      "1cf3cbfde5de4725850b08a74d7e6205",
      "a7b0d75dbcd94abfb3f1096d10114dac",
      "8510e03f26534f24b23b2e11be3b9551",
      "835e005d42fd480f99c3e251dcdafec8",
      "b0c9b321790e466093e7b074ae112450",
      "250c6c1032b0499eb0ab8ba1cb955d4d",
      "1687a069e6c9471ca46e5008545739a5"
     ]
    },
    "id": "PQyuoWgZseHG",
    "outputId": "f587e5cf-a0bc-4e87-a449-88a59935bf96"
   },
   "outputs": [],
   "source": [
    "#@title Create model\n",
    "from RealESRGAN import RealESRGAN\n",
    "from PIL import Image\n",
    "import numpy as np\n",
    "import torch\n",
    "\n",
    "device = torch.device('cuda' if torch.cuda.is_available() else 'cpu')\n",
    "print('device:', device)\n",
    "\n",
    "model_scale = \"2\" #@param [\"2\", \"4\", \"8\"] {allow-input: false}\n",
    "\n",
    "model = RealESRGAN(device, scale=int(model_scale))\n",
    "model.load_weights(f'weights/RealESRGAN_x{model_scale}.pth')"
   ]
  },
  {
   "cell_type": "markdown",
   "metadata": {
    "id": "6VotoGomv-vj"
   },
   "source": [
    "## OPTION: move files and fix filenames"
   ]
  },
  {
   "cell_type": "code",
   "execution_count": null,
   "metadata": {
    "id": "Qh9ZGaBZu8eN"
   },
   "outputs": [],
   "source": [
    "# !cp -r /content/drive/MyDrive/AI/IMG2IMG_stable_diffusion/output/*.png /content/drive/MyDrive/AI/realesrgan_upscaling/input/"
   ]
  },
  {
   "cell_type": "code",
   "execution_count": null,
   "metadata": {
    "id": "mtRCSwcOvnSU"
   },
   "outputs": [],
   "source": [
    "# %cd /content/drive/MyDrive/AI/realesrgan_upscaling/input/"
   ]
  },
  {
   "cell_type": "code",
   "execution_count": null,
   "metadata": {
    "id": "eYBkN0kBvGbO"
   },
   "outputs": [],
   "source": [
    "# %%sh\n",
    "# for file in *-*.png\n",
    "#  do\n",
    "#    newName=\"${file#*-}\"\n",
    "#    mv -- \"${file}\" \"${newName}\"\n",
    "#  done"
   ]
  },
  {
   "cell_type": "markdown",
   "metadata": {
    "id": "8MfGVvW0wELa"
   },
   "source": [
    "## upscale"
   ]
  },
  {
   "cell_type": "code",
   "execution_count": null,
   "metadata": {},
   "outputs": [],
   "source": [
    "!mkdir /tmp/skrek_upscale_2x"
   ]
  },
  {
   "cell_type": "code",
   "execution_count": null,
   "metadata": {},
   "outputs": [],
   "source": [
    "!cp -r /project/input_imgs/complete_10_fps_generation /tmp/skrek_upscale_2x"
   ]
  },
  {
   "cell_type": "code",
   "execution_count": null,
   "metadata": {
    "tags": []
   },
   "outputs": [],
   "source": [
    "!ls /tmp/skrek_upscale_2x/complete_10_fps_generation"
   ]
  },
  {
   "cell_type": "code",
   "execution_count": null,
   "metadata": {
    "colab": {
     "base_uri": "https://localhost:8080/"
    },
    "id": "oTXwYjY4wFiZ",
    "outputId": "a0c038d3-c684-4cb9-c13e-0c363c0f745a",
    "tags": []
   },
   "outputs": [],
   "source": [
    "from glob import glob\n",
    "input_path = \"/tmp/skrek_upscale_2x/\"\n",
    "filename_list = sorted(glob(input_path+\"/*/*\", recursive = True))\n",
    "# filename_list"
   ]
  },
  {
   "cell_type": "code",
   "execution_count": null,
   "metadata": {
    "colab": {
     "base_uri": "https://localhost:8080/"
    },
    "id": "oNUtiddJvJK6",
    "outputId": "8044ebd7-dea4-4a39-848a-05cb6bafbd85",
    "tags": []
   },
   "outputs": [],
   "source": [
    "#@title Upload and upscale images or .tar archives\n",
    "import os\n",
    "# from google.colab import files\n",
    "import shutil\n",
    "from io import BytesIO\n",
    "import io\n",
    "import tarfile\n",
    "\n",
    "upload_folder = '/tmp/skrek_upscale_2x/inputs'\n",
    "result_folder = '/tmp/skrek_upscale_2x/results'\n",
    "\n",
    "os.makedirs(upload_folder, exist_ok=True)\n",
    "os.makedirs(result_folder, exist_ok=True)\n",
    "\n",
    "IMAGE_FORMATS = ('.png', '.jpg', '.jpeg', '.tiff', '.bmp', '.gif')\n",
    "\n",
    "def image_to_tar_format(img, image_name):\n",
    "    buff = BytesIO()\n",
    "    if '.png' in image_name.lower():\n",
    "        img = img.convert('RGBA')\n",
    "        img.save(buff, format='PNG')\n",
    "    else:\n",
    "        img.save(buff, format='JPEG')\n",
    "    buff.seek(0)\n",
    "    fp = io.BufferedReader(buff)\n",
    "    img_tar_info = tarfile.TarInfo(name=image_name)\n",
    "    img_tar_info.size = len(buff.getvalue())\n",
    "    return img_tar_info, fp\n",
    "\n",
    "def process_tar(path_to_tar):\n",
    "    processing_tar = tarfile.open(path_to_tar, mode='r')\n",
    "    result_tar_path = os.path.join(result_folder+'/', os.path.basename(path_to_tar))\n",
    "    save_tar = tarfile.open(result_tar_path, 'w')\n",
    "\n",
    "    for c, member in enumerate(processing_tar):\n",
    "        print(f'{c}, processing {member.name}')\n",
    "\n",
    "        if not member.name.endswith(IMAGE_FORMATS):\n",
    "            continue\n",
    "\n",
    "        try:\n",
    "            img_bytes = BytesIO(processing_tar.extractfile(member.name).read())\n",
    "            img_lr = Image.open(img_bytes, mode='r').convert('RGB')\n",
    "        except Exception as err:\n",
    "            print(f'Unable to open file {member.name}, skipping')\n",
    "            continue\n",
    "\n",
    "        img_sr = model.predict(np.array(img_lr))\n",
    "        # adding to save_tar\n",
    "        img_tar_info, fp = image_to_tar_format(img_sr, member.name)\n",
    "        save_tar.addfile(img_tar_info, fp)\n",
    "\n",
    "    processing_tar.close()\n",
    "    save_tar.close()    \n",
    "    print(f'Finished! Archive saved to {result_tar_path}')\n",
    "\n",
    "def process_input(filename):\n",
    "    if tarfile.is_tarfile(filename):\n",
    "        process_tar(filename)\n",
    "    else:\n",
    "        result_image_path = os.path.join(result_folder+'/', os.path.basename(filename))\n",
    "        image = Image.open(filename).convert('RGB')\n",
    "        sr_image = model.predict(np.array(image))\n",
    "        sr_image.save(result_image_path)\n",
    "        print(f'Finished! Image saved to {result_image_path}')\n",
    "\n",
    "# upload files\n",
    "# uploaded = files.upload()\n",
    "for filename in filename_list:\n",
    "    print('Processing:', filename)\n",
    "    process_input(filename)\n",
    "\n",
    "# # upload files\n",
    "# uploaded = files.upload()\n",
    "# for filename in uploaded.keys():\n",
    "#     print('Processing:', filename)\n",
    "#     process_input(filename)"
   ]
  },
  {
   "cell_type": "code",
   "execution_count": null,
   "metadata": {
    "id": "ybpOXHSgwkEA"
   },
   "outputs": [],
   "source": [
    "# output_path = \"/content/drive/MyDrive/AI/realesrgan_upscaling/output/\""
   ]
  },
  {
   "cell_type": "code",
   "execution_count": null,
   "metadata": {
    "id": "cOEwb5xzwd9v"
   },
   "outputs": [],
   "source": [
    "# !mv /content/results/* $output_path"
   ]
  },
  {
   "cell_type": "code",
   "execution_count": null,
   "metadata": {
    "id": "S2szK3g8_yma"
   },
   "outputs": [],
   "source": [
    "!mv $result_folder /project/output_imgs"
   ]
  },
  {
   "cell_type": "markdown",
   "metadata": {
    "id": "mvG3HIPrAKZs"
   },
   "source": [
    "# Convert output PNG files to JPG"
   ]
  },
  {
   "cell_type": "code",
   "execution_count": null,
   "metadata": {
    "id": "7BF_0XtORWKx"
   },
   "outputs": [],
   "source": [
    "from PIL import Image\n",
    "from tqdm.notebook import tqdm\n",
    "\n",
    "def convert_png_to_jpg(filename, savename):\n",
    "  im = Image.open(filename)\n",
    "  rgb_im = im.convert('RGB')\n",
    "  rgb_im.save(savename)\n"
   ]
  },
  {
   "cell_type": "code",
   "execution_count": null,
   "metadata": {
    "colab": {
     "base_uri": "https://localhost:8080/",
     "height": 49,
     "referenced_widgets": [
      "f4398d0352e643058dd3f4b2b366e66b",
      "336adb01a1a6408fb22510ac286cb9ee",
      "317b1db8a6a445fb95c128e29edd10c2",
      "ba9ba49d85e44beaaa7806cd754c7594",
      "415697cd9e6049a69977c78cf26eb5d7",
      "17bd74e5741941c5a81604119b38016d",
      "258ba06d52ab41e29ffc681528689420",
      "f5d90f32ffae4d1a990e71cdad85976e",
      "76336ff86d6a436eb8cb54c676eaa9b4",
      "e977d155cce740b8957bb1ee3d0b616a",
      "2ba0d54dfdd549f695f488a0962b72ed"
     ]
    },
    "id": "iVjebOXYlR7P",
    "outputId": "8a42fbab-d6cb-4ce4-ec59-6e82c573ee1c"
   },
   "outputs": [],
   "source": [
    "input_png_dir = '/content/drive/MyDrive/AI/realesrgan_upscaling/output'\n",
    "output_png_dir = '/content/drive/MyDrive/AI/realesrgan_upscaling/JPG'\n",
    "images = []\n",
    "\n",
    "for file_name in tqdm(sorted(os.listdir(input_png_dir))):\n",
    "  # filter on PNG files\n",
    "    # if file_name.endswith('.png'):\n",
    "      # get the complete input/output paths\n",
    "      file_path_input = os.path.join(input_png_dir, file_name)\n",
    "      file_path_ouput = os.path.join(output_png_dir, file_name)\n",
    "      file_path_ouput = file_path_ouput.replace('.png', '.jpg')\n",
    "\n",
    "      convert_png_to_jpg(file_path_input, file_path_ouput)\n"
   ]
  }
 ],
 "metadata": {
  "accelerator": "GPU",
  "colab": {
   "collapsed_sections": [],
   "provenance": []
  },
  "kernelspec": {
   "display_name": "Python 3 (ipykernel)",
   "language": "python",
   "name": "python3"
  },
  "language_info": {
   "codemirror_mode": {
    "name": "ipython",
    "version": 3
   },
   "file_extension": ".py",
   "mimetype": "text/x-python",
   "name": "python",
   "nbconvert_exporter": "python",
   "pygments_lexer": "ipython3",
   "version": "3.9.12"
  },
  "widgets": {
   "application/vnd.jupyter.widget-state+json": {
    "030276ab2edb4eafa31229c497d2d2d3": {
     "model_module": "@jupyter-widgets/controls",
     "model_module_version": "1.5.0",
     "model_name": "HTMLModel",
     "state": {
      "_dom_classes": [],
      "_model_module": "@jupyter-widgets/controls",
      "_model_module_version": "1.5.0",
      "_model_name": "HTMLModel",
      "_view_count": null,
      "_view_module": "@jupyter-widgets/controls",
      "_view_module_version": "1.5.0",
      "_view_name": "HTMLView",
      "description": "",
      "description_tooltip": null,
      "layout": "IPY_MODEL_250c6c1032b0499eb0ab8ba1cb955d4d",
      "placeholder": "​",
      "style": "IPY_MODEL_1687a069e6c9471ca46e5008545739a5",
      "value": " 67.2M/67.2M [00:02&lt;00:00, 24.6MB/s]"
     }
    },
    "1687a069e6c9471ca46e5008545739a5": {
     "model_module": "@jupyter-widgets/controls",
     "model_module_version": "1.5.0",
     "model_name": "DescriptionStyleModel",
     "state": {
      "_model_module": "@jupyter-widgets/controls",
      "_model_module_version": "1.5.0",
      "_model_name": "DescriptionStyleModel",
      "_view_count": null,
      "_view_module": "@jupyter-widgets/base",
      "_view_module_version": "1.2.0",
      "_view_name": "StyleView",
      "description_width": ""
     }
    },
    "17bd74e5741941c5a81604119b38016d": {
     "model_module": "@jupyter-widgets/base",
     "model_module_version": "1.2.0",
     "model_name": "LayoutModel",
     "state": {
      "_model_module": "@jupyter-widgets/base",
      "_model_module_version": "1.2.0",
      "_model_name": "LayoutModel",
      "_view_count": null,
      "_view_module": "@jupyter-widgets/base",
      "_view_module_version": "1.2.0",
      "_view_name": "LayoutView",
      "align_content": null,
      "align_items": null,
      "align_self": null,
      "border": null,
      "bottom": null,
      "display": null,
      "flex": null,
      "flex_flow": null,
      "grid_area": null,
      "grid_auto_columns": null,
      "grid_auto_flow": null,
      "grid_auto_rows": null,
      "grid_column": null,
      "grid_gap": null,
      "grid_row": null,
      "grid_template_areas": null,
      "grid_template_columns": null,
      "grid_template_rows": null,
      "height": null,
      "justify_content": null,
      "justify_items": null,
      "left": null,
      "margin": null,
      "max_height": null,
      "max_width": null,
      "min_height": null,
      "min_width": null,
      "object_fit": null,
      "object_position": null,
      "order": null,
      "overflow": null,
      "overflow_x": null,
      "overflow_y": null,
      "padding": null,
      "right": null,
      "top": null,
      "visibility": null,
      "width": null
     }
    },
    "1cf3cbfde5de4725850b08a74d7e6205": {
     "model_module": "@jupyter-widgets/base",
     "model_module_version": "1.2.0",
     "model_name": "LayoutModel",
     "state": {
      "_model_module": "@jupyter-widgets/base",
      "_model_module_version": "1.2.0",
      "_model_name": "LayoutModel",
      "_view_count": null,
      "_view_module": "@jupyter-widgets/base",
      "_view_module_version": "1.2.0",
      "_view_name": "LayoutView",
      "align_content": null,
      "align_items": null,
      "align_self": null,
      "border": null,
      "bottom": null,
      "display": null,
      "flex": null,
      "flex_flow": null,
      "grid_area": null,
      "grid_auto_columns": null,
      "grid_auto_flow": null,
      "grid_auto_rows": null,
      "grid_column": null,
      "grid_gap": null,
      "grid_row": null,
      "grid_template_areas": null,
      "grid_template_columns": null,
      "grid_template_rows": null,
      "height": null,
      "justify_content": null,
      "justify_items": null,
      "left": null,
      "margin": null,
      "max_height": null,
      "max_width": null,
      "min_height": null,
      "min_width": null,
      "object_fit": null,
      "object_position": null,
      "order": null,
      "overflow": null,
      "overflow_x": null,
      "overflow_y": null,
      "padding": null,
      "right": null,
      "top": null,
      "visibility": null,
      "width": null
     }
    },
    "250c6c1032b0499eb0ab8ba1cb955d4d": {
     "model_module": "@jupyter-widgets/base",
     "model_module_version": "1.2.0",
     "model_name": "LayoutModel",
     "state": {
      "_model_module": "@jupyter-widgets/base",
      "_model_module_version": "1.2.0",
      "_model_name": "LayoutModel",
      "_view_count": null,
      "_view_module": "@jupyter-widgets/base",
      "_view_module_version": "1.2.0",
      "_view_name": "LayoutView",
      "align_content": null,
      "align_items": null,
      "align_self": null,
      "border": null,
      "bottom": null,
      "display": null,
      "flex": null,
      "flex_flow": null,
      "grid_area": null,
      "grid_auto_columns": null,
      "grid_auto_flow": null,
      "grid_auto_rows": null,
      "grid_column": null,
      "grid_gap": null,
      "grid_row": null,
      "grid_template_areas": null,
      "grid_template_columns": null,
      "grid_template_rows": null,
      "height": null,
      "justify_content": null,
      "justify_items": null,
      "left": null,
      "margin": null,
      "max_height": null,
      "max_width": null,
      "min_height": null,
      "min_width": null,
      "object_fit": null,
      "object_position": null,
      "order": null,
      "overflow": null,
      "overflow_x": null,
      "overflow_y": null,
      "padding": null,
      "right": null,
      "top": null,
      "visibility": null,
      "width": null
     }
    },
    "258ba06d52ab41e29ffc681528689420": {
     "model_module": "@jupyter-widgets/controls",
     "model_module_version": "1.5.0",
     "model_name": "DescriptionStyleModel",
     "state": {
      "_model_module": "@jupyter-widgets/controls",
      "_model_module_version": "1.5.0",
      "_model_name": "DescriptionStyleModel",
      "_view_count": null,
      "_view_module": "@jupyter-widgets/base",
      "_view_module_version": "1.2.0",
      "_view_name": "StyleView",
      "description_width": ""
     }
    },
    "2ba0d54dfdd549f695f488a0962b72ed": {
     "model_module": "@jupyter-widgets/controls",
     "model_module_version": "1.5.0",
     "model_name": "DescriptionStyleModel",
     "state": {
      "_model_module": "@jupyter-widgets/controls",
      "_model_module_version": "1.5.0",
      "_model_name": "DescriptionStyleModel",
      "_view_count": null,
      "_view_module": "@jupyter-widgets/base",
      "_view_module_version": "1.2.0",
      "_view_name": "StyleView",
      "description_width": ""
     }
    },
    "317b1db8a6a445fb95c128e29edd10c2": {
     "model_module": "@jupyter-widgets/controls",
     "model_module_version": "1.5.0",
     "model_name": "FloatProgressModel",
     "state": {
      "_dom_classes": [],
      "_model_module": "@jupyter-widgets/controls",
      "_model_module_version": "1.5.0",
      "_model_name": "FloatProgressModel",
      "_view_count": null,
      "_view_module": "@jupyter-widgets/controls",
      "_view_module_version": "1.5.0",
      "_view_name": "ProgressView",
      "bar_style": "success",
      "description": "",
      "description_tooltip": null,
      "layout": "IPY_MODEL_f5d90f32ffae4d1a990e71cdad85976e",
      "max": 1,
      "min": 0,
      "orientation": "horizontal",
      "style": "IPY_MODEL_76336ff86d6a436eb8cb54c676eaa9b4",
      "value": 1
     }
    },
    "336adb01a1a6408fb22510ac286cb9ee": {
     "model_module": "@jupyter-widgets/controls",
     "model_module_version": "1.5.0",
     "model_name": "HTMLModel",
     "state": {
      "_dom_classes": [],
      "_model_module": "@jupyter-widgets/controls",
      "_model_module_version": "1.5.0",
      "_model_name": "HTMLModel",
      "_view_count": null,
      "_view_module": "@jupyter-widgets/controls",
      "_view_module_version": "1.5.0",
      "_view_name": "HTMLView",
      "description": "",
      "description_tooltip": null,
      "layout": "IPY_MODEL_17bd74e5741941c5a81604119b38016d",
      "placeholder": "​",
      "style": "IPY_MODEL_258ba06d52ab41e29ffc681528689420",
      "value": "100%"
     }
    },
    "415697cd9e6049a69977c78cf26eb5d7": {
     "model_module": "@jupyter-widgets/base",
     "model_module_version": "1.2.0",
     "model_name": "LayoutModel",
     "state": {
      "_model_module": "@jupyter-widgets/base",
      "_model_module_version": "1.2.0",
      "_model_name": "LayoutModel",
      "_view_count": null,
      "_view_module": "@jupyter-widgets/base",
      "_view_module_version": "1.2.0",
      "_view_name": "LayoutView",
      "align_content": null,
      "align_items": null,
      "align_self": null,
      "border": null,
      "bottom": null,
      "display": null,
      "flex": null,
      "flex_flow": null,
      "grid_area": null,
      "grid_auto_columns": null,
      "grid_auto_flow": null,
      "grid_auto_rows": null,
      "grid_column": null,
      "grid_gap": null,
      "grid_row": null,
      "grid_template_areas": null,
      "grid_template_columns": null,
      "grid_template_rows": null,
      "height": null,
      "justify_content": null,
      "justify_items": null,
      "left": null,
      "margin": null,
      "max_height": null,
      "max_width": null,
      "min_height": null,
      "min_width": null,
      "object_fit": null,
      "object_position": null,
      "order": null,
      "overflow": null,
      "overflow_x": null,
      "overflow_y": null,
      "padding": null,
      "right": null,
      "top": null,
      "visibility": null,
      "width": null
     }
    },
    "76336ff86d6a436eb8cb54c676eaa9b4": {
     "model_module": "@jupyter-widgets/controls",
     "model_module_version": "1.5.0",
     "model_name": "ProgressStyleModel",
     "state": {
      "_model_module": "@jupyter-widgets/controls",
      "_model_module_version": "1.5.0",
      "_model_name": "ProgressStyleModel",
      "_view_count": null,
      "_view_module": "@jupyter-widgets/base",
      "_view_module_version": "1.2.0",
      "_view_name": "StyleView",
      "bar_color": null,
      "description_width": ""
     }
    },
    "7bb63ae462fd45749e73c6b6eb67edb8": {
     "model_module": "@jupyter-widgets/controls",
     "model_module_version": "1.5.0",
     "model_name": "FloatProgressModel",
     "state": {
      "_dom_classes": [],
      "_model_module": "@jupyter-widgets/controls",
      "_model_module_version": "1.5.0",
      "_model_name": "FloatProgressModel",
      "_view_count": null,
      "_view_module": "@jupyter-widgets/controls",
      "_view_module_version": "1.5.0",
      "_view_name": "ProgressView",
      "bar_style": "success",
      "description": "",
      "description_tooltip": null,
      "layout": "IPY_MODEL_835e005d42fd480f99c3e251dcdafec8",
      "max": 67189359,
      "min": 0,
      "orientation": "horizontal",
      "style": "IPY_MODEL_b0c9b321790e466093e7b074ae112450",
      "value": 67189359
     }
    },
    "835e005d42fd480f99c3e251dcdafec8": {
     "model_module": "@jupyter-widgets/base",
     "model_module_version": "1.2.0",
     "model_name": "LayoutModel",
     "state": {
      "_model_module": "@jupyter-widgets/base",
      "_model_module_version": "1.2.0",
      "_model_name": "LayoutModel",
      "_view_count": null,
      "_view_module": "@jupyter-widgets/base",
      "_view_module_version": "1.2.0",
      "_view_name": "LayoutView",
      "align_content": null,
      "align_items": null,
      "align_self": null,
      "border": null,
      "bottom": null,
      "display": null,
      "flex": null,
      "flex_flow": null,
      "grid_area": null,
      "grid_auto_columns": null,
      "grid_auto_flow": null,
      "grid_auto_rows": null,
      "grid_column": null,
      "grid_gap": null,
      "grid_row": null,
      "grid_template_areas": null,
      "grid_template_columns": null,
      "grid_template_rows": null,
      "height": null,
      "justify_content": null,
      "justify_items": null,
      "left": null,
      "margin": null,
      "max_height": null,
      "max_width": null,
      "min_height": null,
      "min_width": null,
      "object_fit": null,
      "object_position": null,
      "order": null,
      "overflow": null,
      "overflow_x": null,
      "overflow_y": null,
      "padding": null,
      "right": null,
      "top": null,
      "visibility": null,
      "width": null
     }
    },
    "8510e03f26534f24b23b2e11be3b9551": {
     "model_module": "@jupyter-widgets/controls",
     "model_module_version": "1.5.0",
     "model_name": "DescriptionStyleModel",
     "state": {
      "_model_module": "@jupyter-widgets/controls",
      "_model_module_version": "1.5.0",
      "_model_name": "DescriptionStyleModel",
      "_view_count": null,
      "_view_module": "@jupyter-widgets/base",
      "_view_module_version": "1.2.0",
      "_view_name": "StyleView",
      "description_width": ""
     }
    },
    "a7b0d75dbcd94abfb3f1096d10114dac": {
     "model_module": "@jupyter-widgets/base",
     "model_module_version": "1.2.0",
     "model_name": "LayoutModel",
     "state": {
      "_model_module": "@jupyter-widgets/base",
      "_model_module_version": "1.2.0",
      "_model_name": "LayoutModel",
      "_view_count": null,
      "_view_module": "@jupyter-widgets/base",
      "_view_module_version": "1.2.0",
      "_view_name": "LayoutView",
      "align_content": null,
      "align_items": null,
      "align_self": null,
      "border": null,
      "bottom": null,
      "display": null,
      "flex": null,
      "flex_flow": null,
      "grid_area": null,
      "grid_auto_columns": null,
      "grid_auto_flow": null,
      "grid_auto_rows": null,
      "grid_column": null,
      "grid_gap": null,
      "grid_row": null,
      "grid_template_areas": null,
      "grid_template_columns": null,
      "grid_template_rows": null,
      "height": null,
      "justify_content": null,
      "justify_items": null,
      "left": null,
      "margin": null,
      "max_height": null,
      "max_width": null,
      "min_height": null,
      "min_width": null,
      "object_fit": null,
      "object_position": null,
      "order": null,
      "overflow": null,
      "overflow_x": null,
      "overflow_y": null,
      "padding": null,
      "right": null,
      "top": null,
      "visibility": null,
      "width": null
     }
    },
    "b0c9b321790e466093e7b074ae112450": {
     "model_module": "@jupyter-widgets/controls",
     "model_module_version": "1.5.0",
     "model_name": "ProgressStyleModel",
     "state": {
      "_model_module": "@jupyter-widgets/controls",
      "_model_module_version": "1.5.0",
      "_model_name": "ProgressStyleModel",
      "_view_count": null,
      "_view_module": "@jupyter-widgets/base",
      "_view_module_version": "1.2.0",
      "_view_name": "StyleView",
      "bar_color": null,
      "description_width": ""
     }
    },
    "ba9ba49d85e44beaaa7806cd754c7594": {
     "model_module": "@jupyter-widgets/controls",
     "model_module_version": "1.5.0",
     "model_name": "HTMLModel",
     "state": {
      "_dom_classes": [],
      "_model_module": "@jupyter-widgets/controls",
      "_model_module_version": "1.5.0",
      "_model_name": "HTMLModel",
      "_view_count": null,
      "_view_module": "@jupyter-widgets/controls",
      "_view_module_version": "1.5.0",
      "_view_name": "HTMLView",
      "description": "",
      "description_tooltip": null,
      "layout": "IPY_MODEL_e977d155cce740b8957bb1ee3d0b616a",
      "placeholder": "​",
      "style": "IPY_MODEL_2ba0d54dfdd549f695f488a0962b72ed",
      "value": " 1/1 [00:00&lt;00:00,  1.07it/s]"
     }
    },
    "cfbf4a1c9acd486d98271d54b0ebb5fb": {
     "model_module": "@jupyter-widgets/controls",
     "model_module_version": "1.5.0",
     "model_name": "HTMLModel",
     "state": {
      "_dom_classes": [],
      "_model_module": "@jupyter-widgets/controls",
      "_model_module_version": "1.5.0",
      "_model_name": "HTMLModel",
      "_view_count": null,
      "_view_module": "@jupyter-widgets/controls",
      "_view_module_version": "1.5.0",
      "_view_name": "HTMLView",
      "description": "",
      "description_tooltip": null,
      "layout": "IPY_MODEL_a7b0d75dbcd94abfb3f1096d10114dac",
      "placeholder": "​",
      "style": "IPY_MODEL_8510e03f26534f24b23b2e11be3b9551",
      "value": "Downloading: 100%"
     }
    },
    "e977d155cce740b8957bb1ee3d0b616a": {
     "model_module": "@jupyter-widgets/base",
     "model_module_version": "1.2.0",
     "model_name": "LayoutModel",
     "state": {
      "_model_module": "@jupyter-widgets/base",
      "_model_module_version": "1.2.0",
      "_model_name": "LayoutModel",
      "_view_count": null,
      "_view_module": "@jupyter-widgets/base",
      "_view_module_version": "1.2.0",
      "_view_name": "LayoutView",
      "align_content": null,
      "align_items": null,
      "align_self": null,
      "border": null,
      "bottom": null,
      "display": null,
      "flex": null,
      "flex_flow": null,
      "grid_area": null,
      "grid_auto_columns": null,
      "grid_auto_flow": null,
      "grid_auto_rows": null,
      "grid_column": null,
      "grid_gap": null,
      "grid_row": null,
      "grid_template_areas": null,
      "grid_template_columns": null,
      "grid_template_rows": null,
      "height": null,
      "justify_content": null,
      "justify_items": null,
      "left": null,
      "margin": null,
      "max_height": null,
      "max_width": null,
      "min_height": null,
      "min_width": null,
      "object_fit": null,
      "object_position": null,
      "order": null,
      "overflow": null,
      "overflow_x": null,
      "overflow_y": null,
      "padding": null,
      "right": null,
      "top": null,
      "visibility": null,
      "width": null
     }
    },
    "f40f121d1888487c9d090781c6283edf": {
     "model_module": "@jupyter-widgets/controls",
     "model_module_version": "1.5.0",
     "model_name": "HBoxModel",
     "state": {
      "_dom_classes": [],
      "_model_module": "@jupyter-widgets/controls",
      "_model_module_version": "1.5.0",
      "_model_name": "HBoxModel",
      "_view_count": null,
      "_view_module": "@jupyter-widgets/controls",
      "_view_module_version": "1.5.0",
      "_view_name": "HBoxView",
      "box_style": "",
      "children": [
       "IPY_MODEL_cfbf4a1c9acd486d98271d54b0ebb5fb",
       "IPY_MODEL_7bb63ae462fd45749e73c6b6eb67edb8",
       "IPY_MODEL_030276ab2edb4eafa31229c497d2d2d3"
      ],
      "layout": "IPY_MODEL_1cf3cbfde5de4725850b08a74d7e6205"
     }
    },
    "f4398d0352e643058dd3f4b2b366e66b": {
     "model_module": "@jupyter-widgets/controls",
     "model_module_version": "1.5.0",
     "model_name": "HBoxModel",
     "state": {
      "_dom_classes": [],
      "_model_module": "@jupyter-widgets/controls",
      "_model_module_version": "1.5.0",
      "_model_name": "HBoxModel",
      "_view_count": null,
      "_view_module": "@jupyter-widgets/controls",
      "_view_module_version": "1.5.0",
      "_view_name": "HBoxView",
      "box_style": "",
      "children": [
       "IPY_MODEL_336adb01a1a6408fb22510ac286cb9ee",
       "IPY_MODEL_317b1db8a6a445fb95c128e29edd10c2",
       "IPY_MODEL_ba9ba49d85e44beaaa7806cd754c7594"
      ],
      "layout": "IPY_MODEL_415697cd9e6049a69977c78cf26eb5d7"
     }
    },
    "f5d90f32ffae4d1a990e71cdad85976e": {
     "model_module": "@jupyter-widgets/base",
     "model_module_version": "1.2.0",
     "model_name": "LayoutModel",
     "state": {
      "_model_module": "@jupyter-widgets/base",
      "_model_module_version": "1.2.0",
      "_model_name": "LayoutModel",
      "_view_count": null,
      "_view_module": "@jupyter-widgets/base",
      "_view_module_version": "1.2.0",
      "_view_name": "LayoutView",
      "align_content": null,
      "align_items": null,
      "align_self": null,
      "border": null,
      "bottom": null,
      "display": null,
      "flex": null,
      "flex_flow": null,
      "grid_area": null,
      "grid_auto_columns": null,
      "grid_auto_flow": null,
      "grid_auto_rows": null,
      "grid_column": null,
      "grid_gap": null,
      "grid_row": null,
      "grid_template_areas": null,
      "grid_template_columns": null,
      "grid_template_rows": null,
      "height": null,
      "justify_content": null,
      "justify_items": null,
      "left": null,
      "margin": null,
      "max_height": null,
      "max_width": null,
      "min_height": null,
      "min_width": null,
      "object_fit": null,
      "object_position": null,
      "order": null,
      "overflow": null,
      "overflow_x": null,
      "overflow_y": null,
      "padding": null,
      "right": null,
      "top": null,
      "visibility": null,
      "width": null
     }
    }
   }
  }
 },
 "nbformat": 4,
 "nbformat_minor": 4
}
