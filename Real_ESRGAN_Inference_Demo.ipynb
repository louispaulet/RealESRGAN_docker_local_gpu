{
 "cells": [
  {
   "cell_type": "markdown",
   "metadata": {
    "id": "IRDbDYYMQt_Y"
   },
   "source": [
    "# Real-ESRGAN Inference on Docker with local GPU"
   ]
  },
  {
   "cell_type": "code",
   "execution_count": null,
   "metadata": {},
   "outputs": [],
   "source": [
    "!nvidia-smi -L"
   ]
  },
  {
   "cell_type": "markdown",
   "metadata": {
    "id": "6BPxh_VmVVIu"
   },
   "source": [
    "# 1. Preparations\n",
    "Before start, make sure that you choose\n",
    "* Runtime Type = Python 3\n",
    "* Hardware Accelerator = GPU\n",
    "\n",
    "in the **Runtime** menu -> **Change runtime type**\n",
    "\n",
    "Then, we clone the repository, set up the envrironment."
   ]
  },
  {
   "cell_type": "code",
   "execution_count": null,
   "metadata": {
    "colab": {
     "base_uri": "https://localhost:8080/"
    },
    "id": "GnpnrLfMV2jU",
    "outputId": "a8eebdf3-ee83-4676-aa3a-d627e1bd48a2",
    "tags": []
   },
   "outputs": [],
   "source": [
    "# Clone Real-ESRGAN and enter the Real-ESRGAN\n",
    "!git clone https://github.com/xinntao/Real-ESRGAN.git\n",
    "%cd Real-ESRGAN\n",
    "# Set up the environment\n",
    "!pip install basicsr\n",
    "!pip install facexlib\n",
    "!pip install gfpgan\n",
    "!pip install -r requirements.txt\n",
    "!python setup.py develop"
   ]
  },
  {
   "cell_type": "markdown",
   "metadata": {
    "id": "rqiEtaOYXnrt"
   },
   "source": [
    "# 3. Inference\n"
   ]
  },
  {
   "cell_type": "code",
   "execution_count": null,
   "metadata": {},
   "outputs": [],
   "source": [
    "!pwd"
   ]
  },
  {
   "cell_type": "code",
   "execution_count": null,
   "metadata": {
    "colab": {
     "base_uri": "https://localhost:8080/"
    },
    "id": "XTVL4m_zXqBU",
    "outputId": "685500bf-a3f0-49b7-95f4-106cdc8fd735"
   },
   "outputs": [],
   "source": [
    "# if it is out of memory, try to use the `--tile` option\n",
    "# We upsample the image with the scale factor X3.5\n",
    "!python inference_realesrgan.py -n RealESRGAN_x4plus -i \"/project/input_imgs/5x_variations_to_sort/5x_variations_women_with_flowers/\" -o \"/project/output_imgs\" --outscale 3.5 --face_enhance -g 0\n",
    "# !python inference_realesrgan.py -n RealESRGAN_x4plus -i \"/project/input_imgs/5x_variations_to_sort/5x_variations_women_with_flowers/\" -o \"/project/output_imgs\" --outscale 3.5 -g 0\n",
    "# Arguments\n",
    "# -n, --model_name: Model names\n",
    "# -i, --input: input folder or image\n",
    "# --outscale: Output scale, can be arbitrary scale factore. "
   ]
  },
  {
   "cell_type": "code",
   "execution_count": null,
   "metadata": {},
   "outputs": [],
   "source": []
  }
 ],
 "metadata": {
  "accelerator": "GPU",
  "colab": {
   "collapsed_sections": [
    "6BPxh_VmVVIu"
   ],
   "provenance": []
  },
  "kernelspec": {
   "display_name": "Python 3 (ipykernel)",
   "language": "python",
   "name": "python3"
  },
  "language_info": {
   "codemirror_mode": {
    "name": "ipython",
    "version": 3
   },
   "file_extension": ".py",
   "mimetype": "text/x-python",
   "name": "python",
   "nbconvert_exporter": "python",
   "pygments_lexer": "ipython3",
   "version": "3.9.12"
  }
 },
 "nbformat": 4,
 "nbformat_minor": 4
}
